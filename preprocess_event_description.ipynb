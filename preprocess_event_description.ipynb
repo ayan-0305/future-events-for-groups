{
 "cells": [
  {
   "cell_type": "code",
   "execution_count": 1,
   "metadata": {},
   "outputs": [
    {
     "name": "stdout",
     "output_type": "stream",
     "text": [
      "Showing the pickled data:\n"
     ]
    }
   ],
   "source": [
    "import pickle\n",
    "from bs4 import BeautifulSoup\n",
    "import re, string, unicodedata\n",
    "from bs4 import BeautifulSoup\n",
    "#from __future__ import print_function\n",
    "# open a file, where you stored the pickled data\n",
    "file = open('eedesc1', 'rb')\n",
    "\n",
    "# dump information to that file\n",
    "data = pickle.load(file)\n",
    "\n",
    "# close the file\n",
    "file.close()\n",
    "\n",
    "print('Showing the pickled data:')\n",
    "\n",
    "cnt = 0\n",
    "#print type(data)\n",
    "\n",
    "def strip_html(text):\n",
    "    soup = BeautifulSoup(text, \"html.parser\")\n",
    "    return soup.get_text()\n",
    "\n",
    "def remove_between_square_brackets(text):\n",
    "    return re.sub('\\[[^]]*\\]', '', text)\n",
    "\n",
    "def denoise_text(text):\n",
    "    text = strip_html(text)\n",
    "    text = remove_between_square_brackets(text)\n",
    "    return text\n",
    "\n",
    "pickle_file1 = \"event_preprocess_description_pickle\"\n",
    "outfile = open(pickle_file1,'wb')\n",
    "file1 = open(\"event_description.txt\",\"w\")#write mode \n",
    "value_string = \"\"\n",
    "cnt = 0\n",
    "for keys,values in data.items():\n",
    "    # print(cnt,end='\\r')\n",
    "    cnt += 1\n",
    "    data[keys] = denoise_text(values)\n",
    "    data[keys] = data[keys].encode(\"ascii\",\"ignore\")\n",
    "    data[keys] = re.sub(r'\\w+:\\/{2}[\\d\\w-]+(\\.[\\d\\w-]+)*(?:(?:\\/[^\\s/]*))*', '', data[keys])\n",
    "    data[keys]=data[keys].replace('\\n','. ')\n",
    "    file1.write(data[keys] + '\\n') \n",
    "    # print data[keys]\n",
    "\n",
    "pickle.dump(data,outfile)\n",
    "outfile.close()    \n",
    "\n",
    "file1.close()\n",
    "\n"
   ]
  },
  {
   "cell_type": "code",
   "execution_count": null,
   "metadata": {},
   "outputs": [],
   "source": [
    "\n"
   ]
  },
  {
   "cell_type": "code",
   "execution_count": null,
   "metadata": {},
   "outputs": [],
   "source": []
  }
 ],
 "metadata": {
  "kernelspec": {
   "display_name": "Python 2",
   "language": "python",
   "name": "python2"
  },
  "language_info": {
   "codemirror_mode": {
    "name": "ipython",
    "version": 2
   },
   "file_extension": ".py",
   "mimetype": "text/x-python",
   "name": "python",
   "nbconvert_exporter": "python",
   "pygments_lexer": "ipython2",
   "version": "2.7.16"
  }
 },
 "nbformat": 4,
 "nbformat_minor": 2
}
